{
 "cells": [
  {
   "cell_type": "code",
   "execution_count": 1,
   "metadata": {},
   "outputs": [],
   "source": [
    "import numpy as np\n",
    "import matplotlib.pyplot as plt\n",
    "from scipy.fft import fft2,fftshift\n",
    "from scipy.fft import ifft2,ifftshift\n",
    "from scipy.fft import fftfreq"
   ]
  },
  {
   "cell_type": "code",
   "execution_count": 4,
   "metadata": {},
   "outputs": [],
   "source": [
    "def mask_esp(X,R,n,z):\n",
    "  n=n+2\n",
    "  U,L=[],np.arange(1,n-1,1)*2*R/(n-1)\n",
    "  for i in z:\n",
    "    j=0\n",
    "    for h in L:\n",
    "      if round(h,1)==round(i,1):\n",
    "        j+=1\n",
    "        k=h\n",
    "        break\n",
    "    if j ==0:\n",
    "      U.append(np.ones(len(X)))\n",
    "    else:\n",
    "      U.append((X**2>=R**2 - (k - R)**2).astype(int) )\n",
    "  return U,L\n"
   ]
  },
  {
   "cell_type": "code",
   "execution_count": 5,
   "metadata": {},
   "outputs": [
    {
     "name": "stdout",
     "output_type": "stream",
     "text": [
      "[2.5 5.  7.5]\n",
      "[2. 4. 6. 8.]\n",
      "[0.625 1.25  1.875 2.5   3.125 3.75  4.375 5.    5.625 6.25  6.875 7.5\n",
      " 8.125 8.75  9.375]\n"
     ]
    },
    {
     "data": {
      "image/png": "[encoded data removed]",
      "text/plain": [
       "<Figure size 1000x500 with 3 Axes>"
      ]
     },
     "metadata": {},
     "output_type": "display_data"
    }
   ],
   "source": [
    "X =np.linspace(-5.5,5.5,100)\n",
    "R=5\n",
    "z=np.arange(0,10,0.1)\n",
    "\n",
    "\n",
    "fig,ax=plt.subplots(1,3,figsize=(10,5))\n",
    "U,L=mask_esp(X,R,3,z)\n",
    "print(L)\n",
    "ax[0].imshow(np.transpose(U),cmap='gray')\n",
    "ax[0].set_yticks([])\n",
    "ax[0].set_xticks([])\n",
    "ax[0].set_title('(A)',fontname='Times New Roman', fontsize=45)\n",
    "\n",
    "U,L=mask_esp(X,R,4,z)\n",
    "print(L)\n",
    "ax[1].imshow(np.transpose(U),cmap='gray')\n",
    "ax[1].set_yticks([])\n",
    "ax[1].set_xticks([])\n",
    "ax[1].set_title('(B)',fontname='Times New Roman', fontsize=45)\n",
    "\n",
    "U,L=mask_esp(X,R,15,z)\n",
    "print(L)\n",
    "ax[2].imshow(np.transpose(U),cmap='gray')\n",
    "ax[2].set_yticks([])\n",
    "ax[2].set_xticks([])\n",
    "ax[2].set_title('(C)',fontname='Times New Roman', fontsize=45)\n",
    "\n",
    "plt.tight_layout()\n",
    "plt.savefig('Sphere_2D.png',dpi=300)"
   ]
  }
 ],
 "metadata": {
  "kernelspec": {
   "display_name": "Python 3",
   "language": "python",
   "name": "python3"
  },
  "language_info": {
   "codemirror_mode": {
    "name": "ipython",
    "version": 3
   },
   "file_extension": ".py",
   "mimetype": "text/x-python",
   "name": "python",
   "nbconvert_exporter": "python",
   "pygments_lexer": "ipython3",
   "version": "3.11.3"
  }
 },
 "nbformat": 4,
 "nbformat_minor": 2
}
